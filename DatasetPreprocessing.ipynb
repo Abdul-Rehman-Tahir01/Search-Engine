{
 "cells": [
  {
   "cell_type": "code",
   "execution_count": 22,
   "metadata": {},
   "outputs": [],
   "source": [
    "# Importing Libraries\n",
    "import pandas as pd\n",
    "import matplotlib.pyplot as plt\n",
    "import seaborn as sns\n",
    "import nltk\n",
    "import ast\n",
    "from collections import Counter"
   ]
  },
  {
   "cell_type": "code",
   "execution_count": 2,
   "metadata": {},
   "outputs": [],
   "source": [
    "# Loading the dataset\n",
    "articles_dataset = pd.read_csv('Dataset/medium_articles.csv')"
   ]
  },
  {
   "cell_type": "code",
   "execution_count": 3,
   "metadata": {},
   "outputs": [
    {
     "name": "stdout",
     "output_type": "stream",
     "text": [
      "(192368, 6) \n",
      "\n"
     ]
    },
    {
     "data": {
      "text/html": [
       "<div>\n",
       "<style scoped>\n",
       "    .dataframe tbody tr th:only-of-type {\n",
       "        vertical-align: middle;\n",
       "    }\n",
       "\n",
       "    .dataframe tbody tr th {\n",
       "        vertical-align: top;\n",
       "    }\n",
       "\n",
       "    .dataframe thead th {\n",
       "        text-align: right;\n",
       "    }\n",
       "</style>\n",
       "<table border=\"1\" class=\"dataframe\">\n",
       "  <thead>\n",
       "    <tr style=\"text-align: right;\">\n",
       "      <th></th>\n",
       "      <th>title</th>\n",
       "      <th>text</th>\n",
       "      <th>url</th>\n",
       "      <th>authors</th>\n",
       "      <th>timestamp</th>\n",
       "      <th>tags</th>\n",
       "    </tr>\n",
       "  </thead>\n",
       "  <tbody>\n",
       "    <tr>\n",
       "      <th>0</th>\n",
       "      <td>Mental Note Vol. 24</td>\n",
       "      <td>Photo by Josh Riemer on Unsplash\\n\\nMerry Chri...</td>\n",
       "      <td>https://medium.com/invisible-illness/mental-no...</td>\n",
       "      <td>['Ryan Fan']</td>\n",
       "      <td>2020-12-26 03:38:10.479000+00:00</td>\n",
       "      <td>['Mental Health', 'Health', 'Psychology', 'Sci...</td>\n",
       "    </tr>\n",
       "    <tr>\n",
       "      <th>1</th>\n",
       "      <td>Your Brain On Coronavirus</td>\n",
       "      <td>Your Brain On Coronavirus\\n\\nA guide to the cu...</td>\n",
       "      <td>https://medium.com/age-of-awareness/how-the-pa...</td>\n",
       "      <td>['Simon Spichak']</td>\n",
       "      <td>2020-09-23 22:10:17.126000+00:00</td>\n",
       "      <td>['Mental Health', 'Coronavirus', 'Science', 'P...</td>\n",
       "    </tr>\n",
       "    <tr>\n",
       "      <th>2</th>\n",
       "      <td>Mind Your Nose</td>\n",
       "      <td>Mind Your Nose\\n\\nHow smell training can chang...</td>\n",
       "      <td>https://medium.com/neodotlife/mind-your-nose-f...</td>\n",
       "      <td>[]</td>\n",
       "      <td>2020-10-10 20:17:37.132000+00:00</td>\n",
       "      <td>['Biotechnology', 'Neuroscience', 'Brain', 'We...</td>\n",
       "    </tr>\n",
       "    <tr>\n",
       "      <th>3</th>\n",
       "      <td>The 4 Purposes of Dreams</td>\n",
       "      <td>Passionate about the synergy between science a...</td>\n",
       "      <td>https://medium.com/science-for-real/the-4-purp...</td>\n",
       "      <td>['Eshan Samaranayake']</td>\n",
       "      <td>2020-12-21 16:05:19.524000+00:00</td>\n",
       "      <td>['Health', 'Neuroscience', 'Mental Health', 'P...</td>\n",
       "    </tr>\n",
       "    <tr>\n",
       "      <th>4</th>\n",
       "      <td>Surviving a Rod Through the Head</td>\n",
       "      <td>You’ve heard of him, haven’t you? Phineas Gage...</td>\n",
       "      <td>https://medium.com/live-your-life-on-purpose/s...</td>\n",
       "      <td>['Rishav Sinha']</td>\n",
       "      <td>2020-02-26 00:01:01.576000+00:00</td>\n",
       "      <td>['Brain', 'Health', 'Development', 'Psychology...</td>\n",
       "    </tr>\n",
       "    <tr>\n",
       "      <th>...</th>\n",
       "      <td>...</td>\n",
       "      <td>...</td>\n",
       "      <td>...</td>\n",
       "      <td>...</td>\n",
       "      <td>...</td>\n",
       "      <td>...</td>\n",
       "    </tr>\n",
       "    <tr>\n",
       "      <th>192363</th>\n",
       "      <td>Why do you need a cleaning service?</td>\n",
       "      <td>What could be more important than having a tid...</td>\n",
       "      <td>https://medium.com/@ozneedcleaningau/why-do-yo...</td>\n",
       "      <td>[]</td>\n",
       "      <td>2021-11-16 08:17:08.950000+00:00</td>\n",
       "      <td>['Cleaning', 'Cleaning Services', 'Cleaning Co...</td>\n",
       "    </tr>\n",
       "    <tr>\n",
       "      <th>192364</th>\n",
       "      <td>Daily cleaning and maintenance of bedding</td>\n",
       "      <td>Daily cleaning and maintenance of bedding\\n\\nW...</td>\n",
       "      <td>https://medium.com/@a198blwt/daily-cleaning-an...</td>\n",
       "      <td>[]</td>\n",
       "      <td>2021-11-16 05:27:05.359000+00:00</td>\n",
       "      <td>['Bedding', 'Cleaning', 'Maintain']</td>\n",
       "    </tr>\n",
       "    <tr>\n",
       "      <th>192365</th>\n",
       "      <td>Beneficial Advice on Bond Cleaning!</td>\n",
       "      <td>The most important chore at the end is bond cl...</td>\n",
       "      <td>https://medium.com/@princegohil/beneficial-adv...</td>\n",
       "      <td>['Prince Shrawan']</td>\n",
       "      <td>2021-11-26 08:20:27.660000+00:00</td>\n",
       "      <td>['Cleaning', 'End Of Lease Cleaning', 'Cleaners']</td>\n",
       "    </tr>\n",
       "    <tr>\n",
       "      <th>192366</th>\n",
       "      <td>How I Learned Romanian in 37 Easy Steps</td>\n",
       "      <td>How I Learned Romanian in 37 Easy Steps\\n\\nHey...</td>\n",
       "      <td>https://medium.com/@lifeinromania/how-i-learne...</td>\n",
       "      <td>['Sam Ursu']</td>\n",
       "      <td>2017-11-27 08:09:19.025000+00:00</td>\n",
       "      <td>['Romania', 'Language Learning', 'Storyofmylife']</td>\n",
       "    </tr>\n",
       "    <tr>\n",
       "      <th>192367</th>\n",
       "      <td>Trying Pimsleur Cantonese in Hong Kong</td>\n",
       "      <td>Over the past few years, I’ve heard a number o...</td>\n",
       "      <td>https://medium.com/toshuo/trying-pimsleur-cant...</td>\n",
       "      <td>[]</td>\n",
       "      <td>2017-06-15 02:24:35.659000+00:00</td>\n",
       "      <td>['Hong Kong', 'Cantonese', 'Language Learning'...</td>\n",
       "    </tr>\n",
       "  </tbody>\n",
       "</table>\n",
       "<p>192368 rows × 6 columns</p>\n",
       "</div>"
      ],
      "text/plain": [
       "                                            title  \\\n",
       "0                             Mental Note Vol. 24   \n",
       "1                       Your Brain On Coronavirus   \n",
       "2                                  Mind Your Nose   \n",
       "3                        The 4 Purposes of Dreams   \n",
       "4                Surviving a Rod Through the Head   \n",
       "...                                           ...   \n",
       "192363        Why do you need a cleaning service?   \n",
       "192364  Daily cleaning and maintenance of bedding   \n",
       "192365        Beneficial Advice on Bond Cleaning!   \n",
       "192366    How I Learned Romanian in 37 Easy Steps   \n",
       "192367     Trying Pimsleur Cantonese in Hong Kong   \n",
       "\n",
       "                                                     text  \\\n",
       "0       Photo by Josh Riemer on Unsplash\\n\\nMerry Chri...   \n",
       "1       Your Brain On Coronavirus\\n\\nA guide to the cu...   \n",
       "2       Mind Your Nose\\n\\nHow smell training can chang...   \n",
       "3       Passionate about the synergy between science a...   \n",
       "4       You’ve heard of him, haven’t you? Phineas Gage...   \n",
       "...                                                   ...   \n",
       "192363  What could be more important than having a tid...   \n",
       "192364  Daily cleaning and maintenance of bedding\\n\\nW...   \n",
       "192365  The most important chore at the end is bond cl...   \n",
       "192366  How I Learned Romanian in 37 Easy Steps\\n\\nHey...   \n",
       "192367  Over the past few years, I’ve heard a number o...   \n",
       "\n",
       "                                                      url  \\\n",
       "0       https://medium.com/invisible-illness/mental-no...   \n",
       "1       https://medium.com/age-of-awareness/how-the-pa...   \n",
       "2       https://medium.com/neodotlife/mind-your-nose-f...   \n",
       "3       https://medium.com/science-for-real/the-4-purp...   \n",
       "4       https://medium.com/live-your-life-on-purpose/s...   \n",
       "...                                                   ...   \n",
       "192363  https://medium.com/@ozneedcleaningau/why-do-yo...   \n",
       "192364  https://medium.com/@a198blwt/daily-cleaning-an...   \n",
       "192365  https://medium.com/@princegohil/beneficial-adv...   \n",
       "192366  https://medium.com/@lifeinromania/how-i-learne...   \n",
       "192367  https://medium.com/toshuo/trying-pimsleur-cant...   \n",
       "\n",
       "                       authors                         timestamp  \\\n",
       "0                 ['Ryan Fan']  2020-12-26 03:38:10.479000+00:00   \n",
       "1            ['Simon Spichak']  2020-09-23 22:10:17.126000+00:00   \n",
       "2                           []  2020-10-10 20:17:37.132000+00:00   \n",
       "3       ['Eshan Samaranayake']  2020-12-21 16:05:19.524000+00:00   \n",
       "4             ['Rishav Sinha']  2020-02-26 00:01:01.576000+00:00   \n",
       "...                        ...                               ...   \n",
       "192363                      []  2021-11-16 08:17:08.950000+00:00   \n",
       "192364                      []  2021-11-16 05:27:05.359000+00:00   \n",
       "192365      ['Prince Shrawan']  2021-11-26 08:20:27.660000+00:00   \n",
       "192366            ['Sam Ursu']  2017-11-27 08:09:19.025000+00:00   \n",
       "192367                      []  2017-06-15 02:24:35.659000+00:00   \n",
       "\n",
       "                                                     tags  \n",
       "0       ['Mental Health', 'Health', 'Psychology', 'Sci...  \n",
       "1       ['Mental Health', 'Coronavirus', 'Science', 'P...  \n",
       "2       ['Biotechnology', 'Neuroscience', 'Brain', 'We...  \n",
       "3       ['Health', 'Neuroscience', 'Mental Health', 'P...  \n",
       "4       ['Brain', 'Health', 'Development', 'Psychology...  \n",
       "...                                                   ...  \n",
       "192363  ['Cleaning', 'Cleaning Services', 'Cleaning Co...  \n",
       "192364                ['Bedding', 'Cleaning', 'Maintain']  \n",
       "192365  ['Cleaning', 'End Of Lease Cleaning', 'Cleaners']  \n",
       "192366  ['Romania', 'Language Learning', 'Storyofmylife']  \n",
       "192367  ['Hong Kong', 'Cantonese', 'Language Learning'...  \n",
       "\n",
       "[192368 rows x 6 columns]"
      ]
     },
     "execution_count": 3,
     "metadata": {},
     "output_type": "execute_result"
    }
   ],
   "source": [
    "# Printing shape and dataset\n",
    "print(articles_dataset.shape, '\\n')\n",
    "articles_dataset"
   ]
  },
  {
   "cell_type": "code",
   "execution_count": 4,
   "metadata": {},
   "outputs": [
    {
     "name": "stdout",
     "output_type": "stream",
     "text": [
      "<class 'pandas.core.frame.DataFrame'>\n",
      "RangeIndex: 192368 entries, 0 to 192367\n",
      "Data columns (total 6 columns):\n",
      " #   Column     Non-Null Count   Dtype \n",
      "---  ------     --------------   ----- \n",
      " 0   title      192363 non-null  object\n",
      " 1   text       192368 non-null  object\n",
      " 2   url        192368 non-null  object\n",
      " 3   authors    192368 non-null  object\n",
      " 4   timestamp  192366 non-null  object\n",
      " 5   tags       192368 non-null  object\n",
      "dtypes: object(6)\n",
      "memory usage: 8.8+ MB\n"
     ]
    }
   ],
   "source": [
    "# Printing info of the dataset\n",
    "articles_dataset.info()"
   ]
  },
  {
   "cell_type": "markdown",
   "metadata": {},
   "source": [
    "<hr>"
   ]
  },
  {
   "cell_type": "code",
   "execution_count": 5,
   "metadata": {},
   "outputs": [
    {
     "data": {
      "text/plain": [
       "title        5\n",
       "text         0\n",
       "url          0\n",
       "authors      0\n",
       "timestamp    2\n",
       "tags         0\n",
       "dtype: int64"
      ]
     },
     "execution_count": 5,
     "metadata": {},
     "output_type": "execute_result"
    }
   ],
   "source": [
    "# Checking for missing values\n",
    "articles_dataset.isnull().sum()"
   ]
  },
  {
   "cell_type": "code",
   "execution_count": 6,
   "metadata": {},
   "outputs": [],
   "source": [
    "# Deleting rows with missing values\n",
    "articles_dataset.dropna(inplace=True)"
   ]
  },
  {
   "cell_type": "code",
   "execution_count": 7,
   "metadata": {},
   "outputs": [
    {
     "name": "stdout",
     "output_type": "stream",
     "text": [
      "(192361, 6) \n",
      "\n"
     ]
    },
    {
     "data": {
      "text/plain": [
       "title        0\n",
       "text         0\n",
       "url          0\n",
       "authors      0\n",
       "timestamp    0\n",
       "tags         0\n",
       "dtype: int64"
      ]
     },
     "execution_count": 7,
     "metadata": {},
     "output_type": "execute_result"
    }
   ],
   "source": [
    "# Printing shape and after deleting missing values\n",
    "print(articles_dataset.shape, '\\n')\n",
    "articles_dataset.isnull().sum()"
   ]
  },
  {
   "cell_type": "markdown",
   "metadata": {},
   "source": [
    "<hr>"
   ]
  },
  {
   "cell_type": "code",
   "execution_count": 8,
   "metadata": {},
   "outputs": [
    {
     "name": "stdout",
     "output_type": "stream",
     "text": [
      "There are 192361 unique articles in the dataset.\n"
     ]
    }
   ],
   "source": [
    "print(f'There are {len(articles_dataset['url'].unique())} unique articles in the dataset.')"
   ]
  },
  {
   "cell_type": "markdown",
   "metadata": {},
   "source": [
    "-> This means that all the articles are unique. They all have unique url."
   ]
  },
  {
   "cell_type": "markdown",
   "metadata": {},
   "source": [
    "<hr>"
   ]
  },
  {
   "cell_type": "code",
   "execution_count": 9,
   "metadata": {},
   "outputs": [
    {
     "name": "stderr",
     "output_type": "stream",
     "text": [
      "[nltk_data] Downloading package stopwords to C:\\Users\\Abdul Rehman\n",
      "[nltk_data]     Tahir\\AppData\\Roaming\\nltk_data...\n",
      "[nltk_data]   Package stopwords is already up-to-date!\n",
      "[nltk_data] Downloading package punkt_tab to C:\\Users\\Abdul Rehman\n",
      "[nltk_data]     Tahir\\AppData\\Roaming\\nltk_data...\n",
      "[nltk_data]   Package punkt_tab is already up-to-date!\n"
     ]
    },
    {
     "data": {
      "text/plain": [
       "True"
      ]
     },
     "execution_count": 9,
     "metadata": {},
     "output_type": "execute_result"
    }
   ],
   "source": [
    "nltk.download('stopwords')\n",
    "nltk.download('punkt_tab')"
   ]
  },
  {
   "cell_type": "code",
   "execution_count": 12,
   "metadata": {},
   "outputs": [
    {
     "data": {
      "image/png": "[encoded data removed]",
      "text/plain": [
       "<Figure size 1500x1000 with 1 Axes>"
      ]
     },
     "metadata": {},
     "output_type": "display_data"
    }
   ],
   "source": [
    "# Tokenize the titles and remove stop words\n",
    "stop_words = set(nltk.corpus.stopwords.words('english'))\n",
    "tokenizer = nltk.tokenize.word_tokenize\n",
    "\n",
    "title_words = articles_dataset['title'].str.lower().str.split().explode()\n",
    "title_words_clean = title_words[title_words.str.isalnum() & ~title_words.isin(stop_words)]\n",
    "\n",
    "# Find the most common words\n",
    "word_freq = Counter(title_words_clean).most_common(50)\n",
    "\n",
    "# Convert to DataFrame for visualization\n",
    "word_freq_df = pd.DataFrame(word_freq, columns=['Word', 'Frequency'])\n",
    "\n",
    "# Plot the most common words\n",
    "plt.figure(figsize=(15, 10))\n",
    "sns.barplot(x='Frequency', y='Word', data=word_freq_df)\n",
    "plt.title('Most Common Words in Medium Article Titles')\n",
    "plt.show()"
   ]
  },
  {
   "cell_type": "markdown",
   "metadata": {},
   "source": [
    "<hr>"
   ]
  },
  {
   "cell_type": "code",
   "execution_count": 13,
   "metadata": {},
   "outputs": [
    {
     "data": {
      "text/plain": [
       "count    192361.000000\n",
       "mean       5097.857570\n",
       "std        5206.122114\n",
       "min          10.000000\n",
       "25%        1952.000000\n",
       "50%        3837.000000\n",
       "75%        6591.000000\n",
       "max      100000.000000\n",
       "Name: text_length, dtype: float64"
      ]
     },
     "execution_count": 13,
     "metadata": {},
     "output_type": "execute_result"
    }
   ],
   "source": [
    "# Checking the distribution of text length in articles\n",
    "articles_dataset['text_length'] = articles_dataset['text'].str.len()\n",
    "articles_dataset['text_length'].describe()"
   ]
  },
  {
   "cell_type": "code",
   "execution_count": 17,
   "metadata": {},
   "outputs": [
    {
     "data": {
      "text/plain": [
       "<Axes: xlabel='text_length', ylabel='Count'>"
      ]
     },
     "execution_count": 17,
     "metadata": {},
     "output_type": "execute_result"
    },
    {
     "data": {
      "image/png": "[encoded data removed]",
      "text/plain": [
       "<Figure size 640x480 with 1 Axes>"
      ]
     },
     "metadata": {},
     "output_type": "display_data"
    }
   ],
   "source": [
    "sns.histplot(articles_dataset['text_length'])"
   ]
  },
  {
   "cell_type": "code",
   "execution_count": 18,
   "metadata": {},
   "outputs": [
    {
     "data": {
      "text/plain": [
       "<Axes: ylabel='text_length'>"
      ]
     },
     "execution_count": 18,
     "metadata": {},
     "output_type": "execute_result"
    },
    {
     "data": {
      "image/png": "[encoded data removed]",
      "text/plain": [
       "<Figure size 640x480 with 1 Axes>"
      ]
     },
     "metadata": {},
     "output_type": "display_data"
    }
   ],
   "source": [
    "# Checking for outliers in the text length\n",
    "sns.boxplot(articles_dataset['text_length'])"
   ]
  },
  {
   "cell_type": "markdown",
   "metadata": {},
   "source": [
    "<hr>"
   ]
  },
  {
   "cell_type": "code",
   "execution_count": 19,
   "metadata": {},
   "outputs": [
    {
     "data": {
      "text/plain": [
       "count    192361.000000\n",
       "mean         46.878889\n",
       "std          23.179043\n",
       "min           1.000000\n",
       "25%          31.000000\n",
       "50%          45.000000\n",
       "75%          60.000000\n",
       "max         200.000000\n",
       "Name: title_length, dtype: float64"
      ]
     },
     "execution_count": 19,
     "metadata": {},
     "output_type": "execute_result"
    }
   ],
   "source": [
    "# Checking the distribution of title length in articles\n",
    "articles_dataset[\"title_length\"] = articles_dataset[\"title\"].str.len()\n",
    "articles_dataset[\"title_length\"].describe()"
   ]
  },
  {
   "cell_type": "code",
   "execution_count": 20,
   "metadata": {},
   "outputs": [
    {
     "data": {
      "text/plain": [
       "<Axes: xlabel='title_length', ylabel='Count'>"
      ]
     },
     "execution_count": 20,
     "metadata": {},
     "output_type": "execute_result"
    },
    {
     "data": {
      "image/png": "[encoded data removed]",
      "text/plain": [
       "<Figure size 640x480 with 1 Axes>"
      ]
     },
     "metadata": {},
     "output_type": "display_data"
    }
   ],
   "source": [
    "sns.histplot(articles_dataset[\"title_length\"])"
   ]
  },
  {
   "cell_type": "code",
   "execution_count": 21,
   "metadata": {},
   "outputs": [
    {
     "data": {
      "text/plain": [
       "<Axes: ylabel='title_length'>"
      ]
     },
     "execution_count": 21,
     "metadata": {},
     "output_type": "execute_result"
    },
    {
     "data": {
      "image/png": "[encoded data removed]",
      "text/plain": [
       "<Figure size 640x480 with 1 Axes>"
      ]
     },
     "metadata": {},
     "output_type": "display_data"
    }
   ],
   "source": [
    "sns.boxplot(articles_dataset[\"title_length\"])"
   ]
  },
  {
   "cell_type": "markdown",
   "metadata": {},
   "source": [
    "<hr>"
   ]
  },
  {
   "cell_type": "code",
   "execution_count": 23,
   "metadata": {},
   "outputs": [
    {
     "data": {
      "text/plain": [
       "count    192361.000000\n",
       "mean          4.577737\n",
       "std           0.873526\n",
       "min           1.000000\n",
       "25%           5.000000\n",
       "50%           5.000000\n",
       "75%           5.000000\n",
       "max           5.000000\n",
       "Name: num_tags, dtype: float64"
      ]
     },
     "execution_count": 23,
     "metadata": {},
     "output_type": "execute_result"
    }
   ],
   "source": [
    "# Checking the distribution of tags in articles\n",
    "articles_dataset['num_tags'] = articles_dataset['tags'].apply(lambda x: len(ast.literal_eval(x)))\n",
    "articles_dataset['num_tags'].describe()"
   ]
  },
  {
   "cell_type": "code",
   "execution_count": 24,
   "metadata": {},
   "outputs": [
    {
     "data": {
      "text/plain": [
       "<Axes: xlabel='num_tags', ylabel='Count'>"
      ]
     },
     "execution_count": 24,
     "metadata": {},
     "output_type": "execute_result"
    },
    {
     "data": {
      "image/png": "[encoded data removed]",
      "text/plain": [
       "<Figure size 640x480 with 1 Axes>"
      ]
     },
     "metadata": {},
     "output_type": "display_data"
    }
   ],
   "source": [
    "sns.histplot(articles_dataset['num_tags'])"
   ]
  },
  {
   "cell_type": "markdown",
   "metadata": {},
   "source": [
    "<hr>"
   ]
  },
  {
   "cell_type": "code",
   "execution_count": 26,
   "metadata": {},
   "outputs": [
    {
     "data": {
      "text/plain": [
       "count    192361.000000\n",
       "mean          0.854446\n",
       "std           0.399987\n",
       "min           0.000000\n",
       "25%           1.000000\n",
       "50%           1.000000\n",
       "75%           1.000000\n",
       "max          10.000000\n",
       "Name: num_authors, dtype: float64"
      ]
     },
     "execution_count": 26,
     "metadata": {},
     "output_type": "execute_result"
    }
   ],
   "source": [
    "# Checking distribution of authors in articles\n",
    "articles_dataset['num_authors'] = articles_dataset['authors'].apply(lambda x: len(ast.literal_eval(x)))\n",
    "articles_dataset['num_authors'].describe()"
   ]
  },
  {
   "cell_type": "code",
   "execution_count": 27,
   "metadata": {},
   "outputs": [
    {
     "data": {
      "text/plain": [
       "<Axes: xlabel='num_authors', ylabel='Count'>"
      ]
     },
     "execution_count": 27,
     "metadata": {},
     "output_type": "execute_result"
    },
    {
     "data": {
      "image/png": "[encoded data removed]",
      "text/plain": [
       "<Figure size 640x480 with 1 Axes>"
      ]
     },
     "metadata": {},
     "output_type": "display_data"
    }
   ],
   "source": [
    "sns.histplot(articles_dataset['num_authors'])"
   ]
  },
  {
   "cell_type": "markdown",
   "metadata": {},
   "source": [
    "<hr>"
   ]
  },
  {
   "cell_type": "code",
   "execution_count": 28,
   "metadata": {},
   "outputs": [
    {
     "name": "stdout",
     "output_type": "stream",
     "text": [
      "(192361, 10) \n",
      "\n"
     ]
    },
    {
     "data": {
      "text/html": [
       "<div>\n",
       "<style scoped>\n",
       "    .dataframe tbody tr th:only-of-type {\n",
       "        vertical-align: middle;\n",
       "    }\n",
       "\n",
       "    .dataframe tbody tr th {\n",
       "        vertical-align: top;\n",
       "    }\n",
       "\n",
       "    .dataframe thead th {\n",
       "        text-align: right;\n",
       "    }\n",
       "</style>\n",
       "<table border=\"1\" class=\"dataframe\">\n",
       "  <thead>\n",
       "    <tr style=\"text-align: right;\">\n",
       "      <th></th>\n",
       "      <th>title</th>\n",
       "      <th>text</th>\n",
       "      <th>url</th>\n",
       "      <th>authors</th>\n",
       "      <th>timestamp</th>\n",
       "      <th>tags</th>\n",
       "      <th>text_length</th>\n",
       "      <th>title_length</th>\n",
       "      <th>num_tags</th>\n",
       "      <th>num_authors</th>\n",
       "    </tr>\n",
       "  </thead>\n",
       "  <tbody>\n",
       "    <tr>\n",
       "      <th>0</th>\n",
       "      <td>Mental Note Vol. 24</td>\n",
       "      <td>Photo by Josh Riemer on Unsplash\\n\\nMerry Chri...</td>\n",
       "      <td>https://medium.com/invisible-illness/mental-no...</td>\n",
       "      <td>['Ryan Fan']</td>\n",
       "      <td>2020-12-26 03:38:10.479000+00:00</td>\n",
       "      <td>['Mental Health', 'Health', 'Psychology', 'Sci...</td>\n",
       "      <td>5018</td>\n",
       "      <td>19</td>\n",
       "      <td>5</td>\n",
       "      <td>1</td>\n",
       "    </tr>\n",
       "    <tr>\n",
       "      <th>1</th>\n",
       "      <td>Your Brain On Coronavirus</td>\n",
       "      <td>Your Brain On Coronavirus\\n\\nA guide to the cu...</td>\n",
       "      <td>https://medium.com/age-of-awareness/how-the-pa...</td>\n",
       "      <td>['Simon Spichak']</td>\n",
       "      <td>2020-09-23 22:10:17.126000+00:00</td>\n",
       "      <td>['Mental Health', 'Coronavirus', 'Science', 'P...</td>\n",
       "      <td>7293</td>\n",
       "      <td>25</td>\n",
       "      <td>5</td>\n",
       "      <td>1</td>\n",
       "    </tr>\n",
       "    <tr>\n",
       "      <th>2</th>\n",
       "      <td>Mind Your Nose</td>\n",
       "      <td>Mind Your Nose\\n\\nHow smell training can chang...</td>\n",
       "      <td>https://medium.com/neodotlife/mind-your-nose-f...</td>\n",
       "      <td>[]</td>\n",
       "      <td>2020-10-10 20:17:37.132000+00:00</td>\n",
       "      <td>['Biotechnology', 'Neuroscience', 'Brain', 'We...</td>\n",
       "      <td>5730</td>\n",
       "      <td>14</td>\n",
       "      <td>5</td>\n",
       "      <td>0</td>\n",
       "    </tr>\n",
       "    <tr>\n",
       "      <th>3</th>\n",
       "      <td>The 4 Purposes of Dreams</td>\n",
       "      <td>Passionate about the synergy between science a...</td>\n",
       "      <td>https://medium.com/science-for-real/the-4-purp...</td>\n",
       "      <td>['Eshan Samaranayake']</td>\n",
       "      <td>2020-12-21 16:05:19.524000+00:00</td>\n",
       "      <td>['Health', 'Neuroscience', 'Mental Health', 'P...</td>\n",
       "      <td>146</td>\n",
       "      <td>24</td>\n",
       "      <td>5</td>\n",
       "      <td>1</td>\n",
       "    </tr>\n",
       "    <tr>\n",
       "      <th>4</th>\n",
       "      <td>Surviving a Rod Through the Head</td>\n",
       "      <td>You’ve heard of him, haven’t you? Phineas Gage...</td>\n",
       "      <td>https://medium.com/live-your-life-on-purpose/s...</td>\n",
       "      <td>['Rishav Sinha']</td>\n",
       "      <td>2020-02-26 00:01:01.576000+00:00</td>\n",
       "      <td>['Brain', 'Health', 'Development', 'Psychology...</td>\n",
       "      <td>2326</td>\n",
       "      <td>32</td>\n",
       "      <td>5</td>\n",
       "      <td>1</td>\n",
       "    </tr>\n",
       "    <tr>\n",
       "      <th>...</th>\n",
       "      <td>...</td>\n",
       "      <td>...</td>\n",
       "      <td>...</td>\n",
       "      <td>...</td>\n",
       "      <td>...</td>\n",
       "      <td>...</td>\n",
       "      <td>...</td>\n",
       "      <td>...</td>\n",
       "      <td>...</td>\n",
       "      <td>...</td>\n",
       "    </tr>\n",
       "    <tr>\n",
       "      <th>192363</th>\n",
       "      <td>Why do you need a cleaning service?</td>\n",
       "      <td>What could be more important than having a tid...</td>\n",
       "      <td>https://medium.com/@ozneedcleaningau/why-do-yo...</td>\n",
       "      <td>[]</td>\n",
       "      <td>2021-11-16 08:17:08.950000+00:00</td>\n",
       "      <td>['Cleaning', 'Cleaning Services', 'Cleaning Co...</td>\n",
       "      <td>2845</td>\n",
       "      <td>35</td>\n",
       "      <td>5</td>\n",
       "      <td>0</td>\n",
       "    </tr>\n",
       "    <tr>\n",
       "      <th>192364</th>\n",
       "      <td>Daily cleaning and maintenance of bedding</td>\n",
       "      <td>Daily cleaning and maintenance of bedding\\n\\nW...</td>\n",
       "      <td>https://medium.com/@a198blwt/daily-cleaning-an...</td>\n",
       "      <td>[]</td>\n",
       "      <td>2021-11-16 05:27:05.359000+00:00</td>\n",
       "      <td>['Bedding', 'Cleaning', 'Maintain']</td>\n",
       "      <td>2643</td>\n",
       "      <td>41</td>\n",
       "      <td>3</td>\n",
       "      <td>0</td>\n",
       "    </tr>\n",
       "    <tr>\n",
       "      <th>192365</th>\n",
       "      <td>Beneficial Advice on Bond Cleaning!</td>\n",
       "      <td>The most important chore at the end is bond cl...</td>\n",
       "      <td>https://medium.com/@princegohil/beneficial-adv...</td>\n",
       "      <td>['Prince Shrawan']</td>\n",
       "      <td>2021-11-26 08:20:27.660000+00:00</td>\n",
       "      <td>['Cleaning', 'End Of Lease Cleaning', 'Cleaners']</td>\n",
       "      <td>1959</td>\n",
       "      <td>35</td>\n",
       "      <td>3</td>\n",
       "      <td>1</td>\n",
       "    </tr>\n",
       "    <tr>\n",
       "      <th>192366</th>\n",
       "      <td>How I Learned Romanian in 37 Easy Steps</td>\n",
       "      <td>How I Learned Romanian in 37 Easy Steps\\n\\nHey...</td>\n",
       "      <td>https://medium.com/@lifeinromania/how-i-learne...</td>\n",
       "      <td>['Sam Ursu']</td>\n",
       "      <td>2017-11-27 08:09:19.025000+00:00</td>\n",
       "      <td>['Romania', 'Language Learning', 'Storyofmylife']</td>\n",
       "      <td>10772</td>\n",
       "      <td>39</td>\n",
       "      <td>3</td>\n",
       "      <td>1</td>\n",
       "    </tr>\n",
       "    <tr>\n",
       "      <th>192367</th>\n",
       "      <td>Trying Pimsleur Cantonese in Hong Kong</td>\n",
       "      <td>Over the past few years, I’ve heard a number o...</td>\n",
       "      <td>https://medium.com/toshuo/trying-pimsleur-cant...</td>\n",
       "      <td>[]</td>\n",
       "      <td>2017-06-15 02:24:35.659000+00:00</td>\n",
       "      <td>['Hong Kong', 'Cantonese', 'Language Learning'...</td>\n",
       "      <td>4047</td>\n",
       "      <td>38</td>\n",
       "      <td>4</td>\n",
       "      <td>0</td>\n",
       "    </tr>\n",
       "  </tbody>\n",
       "</table>\n",
       "<p>192361 rows × 10 columns</p>\n",
       "</div>"
      ],
      "text/plain": [
       "                                            title  \\\n",
       "0                             Mental Note Vol. 24   \n",
       "1                       Your Brain On Coronavirus   \n",
       "2                                  Mind Your Nose   \n",
       "3                        The 4 Purposes of Dreams   \n",
       "4                Surviving a Rod Through the Head   \n",
       "...                                           ...   \n",
       "192363        Why do you need a cleaning service?   \n",
       "192364  Daily cleaning and maintenance of bedding   \n",
       "192365        Beneficial Advice on Bond Cleaning!   \n",
       "192366    How I Learned Romanian in 37 Easy Steps   \n",
       "192367     Trying Pimsleur Cantonese in Hong Kong   \n",
       "\n",
       "                                                     text  \\\n",
       "0       Photo by Josh Riemer on Unsplash\\n\\nMerry Chri...   \n",
       "1       Your Brain On Coronavirus\\n\\nA guide to the cu...   \n",
       "2       Mind Your Nose\\n\\nHow smell training can chang...   \n",
       "3       Passionate about the synergy between science a...   \n",
       "4       You’ve heard of him, haven’t you? Phineas Gage...   \n",
       "...                                                   ...   \n",
       "192363  What could be more important than having a tid...   \n",
       "192364  Daily cleaning and maintenance of bedding\\n\\nW...   \n",
       "192365  The most important chore at the end is bond cl...   \n",
       "192366  How I Learned Romanian in 37 Easy Steps\\n\\nHey...   \n",
       "192367  Over the past few years, I’ve heard a number o...   \n",
       "\n",
       "                                                      url  \\\n",
       "0       https://medium.com/invisible-illness/mental-no...   \n",
       "1       https://medium.com/age-of-awareness/how-the-pa...   \n",
       "2       https://medium.com/neodotlife/mind-your-nose-f...   \n",
       "3       https://medium.com/science-for-real/the-4-purp...   \n",
       "4       https://medium.com/live-your-life-on-purpose/s...   \n",
       "...                                                   ...   \n",
       "192363  https://medium.com/@ozneedcleaningau/why-do-yo...   \n",
       "192364  https://medium.com/@a198blwt/daily-cleaning-an...   \n",
       "192365  https://medium.com/@princegohil/beneficial-adv...   \n",
       "192366  https://medium.com/@lifeinromania/how-i-learne...   \n",
       "192367  https://medium.com/toshuo/trying-pimsleur-cant...   \n",
       "\n",
       "                       authors                         timestamp  \\\n",
       "0                 ['Ryan Fan']  2020-12-26 03:38:10.479000+00:00   \n",
       "1            ['Simon Spichak']  2020-09-23 22:10:17.126000+00:00   \n",
       "2                           []  2020-10-10 20:17:37.132000+00:00   \n",
       "3       ['Eshan Samaranayake']  2020-12-21 16:05:19.524000+00:00   \n",
       "4             ['Rishav Sinha']  2020-02-26 00:01:01.576000+00:00   \n",
       "...                        ...                               ...   \n",
       "192363                      []  2021-11-16 08:17:08.950000+00:00   \n",
       "192364                      []  2021-11-16 05:27:05.359000+00:00   \n",
       "192365      ['Prince Shrawan']  2021-11-26 08:20:27.660000+00:00   \n",
       "192366            ['Sam Ursu']  2017-11-27 08:09:19.025000+00:00   \n",
       "192367                      []  2017-06-15 02:24:35.659000+00:00   \n",
       "\n",
       "                                                     tags  text_length  \\\n",
       "0       ['Mental Health', 'Health', 'Psychology', 'Sci...         5018   \n",
       "1       ['Mental Health', 'Coronavirus', 'Science', 'P...         7293   \n",
       "2       ['Biotechnology', 'Neuroscience', 'Brain', 'We...         5730   \n",
       "3       ['Health', 'Neuroscience', 'Mental Health', 'P...          146   \n",
       "4       ['Brain', 'Health', 'Development', 'Psychology...         2326   \n",
       "...                                                   ...          ...   \n",
       "192363  ['Cleaning', 'Cleaning Services', 'Cleaning Co...         2845   \n",
       "192364                ['Bedding', 'Cleaning', 'Maintain']         2643   \n",
       "192365  ['Cleaning', 'End Of Lease Cleaning', 'Cleaners']         1959   \n",
       "192366  ['Romania', 'Language Learning', 'Storyofmylife']        10772   \n",
       "192367  ['Hong Kong', 'Cantonese', 'Language Learning'...         4047   \n",
       "\n",
       "        title_length  num_tags  num_authors  \n",
       "0                 19         5            1  \n",
       "1                 25         5            1  \n",
       "2                 14         5            0  \n",
       "3                 24         5            1  \n",
       "4                 32         5            1  \n",
       "...              ...       ...          ...  \n",
       "192363            35         5            0  \n",
       "192364            41         3            0  \n",
       "192365            35         3            1  \n",
       "192366            39         3            1  \n",
       "192367            38         4            0  \n",
       "\n",
       "[192361 rows x 10 columns]"
      ]
     },
     "execution_count": 28,
     "metadata": {},
     "output_type": "execute_result"
    }
   ],
   "source": [
    "# Printing shape and dataset after preprocessing\n",
    "print(articles_dataset.shape, '\\n')\n",
    "articles_dataset"
   ]
  },
  {
   "cell_type": "code",
   "execution_count": 29,
   "metadata": {},
   "outputs": [
    {
     "name": "stdout",
     "output_type": "stream",
     "text": [
      "<class 'pandas.core.frame.DataFrame'>\n",
      "Index: 192361 entries, 0 to 192367\n",
      "Data columns (total 10 columns):\n",
      " #   Column        Non-Null Count   Dtype \n",
      "---  ------        --------------   ----- \n",
      " 0   title         192361 non-null  object\n",
      " 1   text          192361 non-null  object\n",
      " 2   url           192361 non-null  object\n",
      " 3   authors       192361 non-null  object\n",
      " 4   timestamp     192361 non-null  object\n",
      " 5   tags          192361 non-null  object\n",
      " 6   text_length   192361 non-null  int64 \n",
      " 7   title_length  192361 non-null  int64 \n",
      " 8   num_tags      192361 non-null  int64 \n",
      " 9   num_authors   192361 non-null  int64 \n",
      "dtypes: int64(4), object(6)\n",
      "memory usage: 16.1+ MB\n"
     ]
    }
   ],
   "source": [
    "# Printing info of the dataset after preprocessing\n",
    "articles_dataset.info()"
   ]
  },
  {
   "cell_type": "code",
   "execution_count": 30,
   "metadata": {},
   "outputs": [],
   "source": [
    "articles_dataset.to_csv('Dataset/medium_articles_preprocessed.csv', index=False)"
   ]
  },
  {
   "cell_type": "markdown",
   "metadata": {},
   "source": [
    "<hr>"
   ]
  }
 ],
 "metadata": {
  "kernelspec": {
   "display_name": "Python 3",
   "language": "python",
   "name": "python3"
  },
  "language_info": {
   "codemirror_mode": {
    "name": "ipython",
    "version": 3
   },
   "file_extension": ".py",
   "mimetype": "text/x-python",
   "name": "python",
   "nbconvert_exporter": "python",
   "pygments_lexer": "ipython3",
   "version": "3.12.3"
  }
 },
 "nbformat": 4,
 "nbformat_minor": 2
}
